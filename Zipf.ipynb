{
 "cells": [
  {
   "cell_type": "code",
   "execution_count": 1,
   "id": "ac0b3691",
   "metadata": {},
   "outputs": [],
   "source": [
    "# Load packages \n",
    "import pandas as pd\n",
    "# Load functions from another created python file created \n",
    "from Zipfunction import load_data, jon, num_marker, var_maker, scorr, real_plot"
   ]
  },
  {
   "cell_type": "markdown",
   "id": "c94e1f07",
   "metadata": {},
   "source": [
    "# Loading Data"
   ]
  },
  {
   "cell_type": "code",
   "execution_count": 3,
   "id": "7c8b5d01",
   "metadata": {},
   "outputs": [
    {
     "data": {
      "text/html": [
       "<div>\n",
       "<style scoped>\n",
       "    .dataframe tbody tr th:only-of-type {\n",
       "        vertical-align: middle;\n",
       "    }\n",
       "\n",
       "    .dataframe tbody tr th {\n",
       "        vertical-align: top;\n",
       "    }\n",
       "\n",
       "    .dataframe thead th {\n",
       "        text-align: right;\n",
       "    }\n",
       "</style>\n",
       "<table border=\"1\" class=\"dataframe\">\n",
       "  <thead>\n",
       "    <tr style=\"text-align: right;\">\n",
       "      <th></th>\n",
       "      <th>Wikipedia</th>\n",
       "      <th>Maths</th>\n",
       "      <th>Cut</th>\n",
       "    </tr>\n",
       "  </thead>\n",
       "  <tbody>\n",
       "    <tr>\n",
       "      <th>1</th>\n",
       "      <td>Zipf's</td>\n",
       "      <td>In</td>\n",
       "      <td>With</td>\n",
       "    </tr>\n",
       "    <tr>\n",
       "      <th>2</th>\n",
       "      <td>law</td>\n",
       "      <td>our</td>\n",
       "      <td>the</td>\n",
       "    </tr>\n",
       "    <tr>\n",
       "      <th>3</th>\n",
       "      <td>(/zɪf/,</td>\n",
       "      <td>recent</td>\n",
       "      <td>view</td>\n",
       "    </tr>\n",
       "    <tr>\n",
       "      <th>4</th>\n",
       "      <td>German:</td>\n",
       "      <td>Plus</td>\n",
       "      <td>to</td>\n",
       "    </tr>\n",
       "    <tr>\n",
       "      <th>5</th>\n",
       "      <td>[ts͡ɪpf])</td>\n",
       "      <td>article</td>\n",
       "      <td>the</td>\n",
       "    </tr>\n",
       "  </tbody>\n",
       "</table>\n",
       "</div>"
      ],
      "text/plain": [
       "   Wikipedia    Maths   Cut\n",
       "1     Zipf's       In  With\n",
       "2        law      our   the\n",
       "3    (/zɪf/,   recent  view\n",
       "4    German:     Plus    to\n",
       "5  [ts͡ɪpf])  article   the"
      ]
     },
     "execution_count": 3,
     "metadata": {},
     "output_type": "execute_result"
    }
   ],
   "source": [
    "soup = load_data('https://en.wikipedia.org/wiki/Zipf%27s_law')\n",
    "sec_soup = load_data('https://plus.maths.org/content/mystery-zipf')\n",
    "rd_soup = load_data('http://www.cut-the-knot.org/do_you_know/zipfLaw.shtml')\n",
    "# Getting the most frequency words from each website\n",
    "df = jon('Wikipedia', var_maker(soup), 'Maths', var_maker(sec_soup), 'Cut', var_maker(rd_soup)).iloc[1:, :]\n",
    "df.head()"
   ]
  },
  {
   "cell_type": "code",
   "execution_count": 4,
   "id": "0dc7be5a",
   "metadata": {},
   "outputs": [
    {
     "data": {
      "text/html": [
       "<div>\n",
       "<style scoped>\n",
       "    .dataframe tbody tr th:only-of-type {\n",
       "        vertical-align: middle;\n",
       "    }\n",
       "\n",
       "    .dataframe tbody tr th {\n",
       "        vertical-align: top;\n",
       "    }\n",
       "\n",
       "    .dataframe thead th {\n",
       "        text-align: right;\n",
       "    }\n",
       "</style>\n",
       "<table border=\"1\" class=\"dataframe\">\n",
       "  <thead>\n",
       "    <tr style=\"text-align: right;\">\n",
       "      <th></th>\n",
       "      <th>Wikipedia Words</th>\n",
       "      <th>Wikipedia Count</th>\n",
       "      <th>Wikipedia Ex Count</th>\n",
       "      <th>Maths Words</th>\n",
       "      <th>Maths Count</th>\n",
       "      <th>Maths Ex Count</th>\n",
       "      <th>Cut Words</th>\n",
       "      <th>Cut Count</th>\n",
       "      <th>Cut Ex Count</th>\n",
       "    </tr>\n",
       "  </thead>\n",
       "  <tbody>\n",
       "    <tr>\n",
       "      <th>0</th>\n",
       "      <td>the</td>\n",
       "      <td>141.0</td>\n",
       "      <td>141.00</td>\n",
       "      <td>the</td>\n",
       "      <td>49.0</td>\n",
       "      <td>49.000000</td>\n",
       "      <td>the</td>\n",
       "      <td>169</td>\n",
       "      <td>169.000000</td>\n",
       "    </tr>\n",
       "    <tr>\n",
       "      <th>1</th>\n",
       "      <td>of</td>\n",
       "      <td>90.0</td>\n",
       "      <td>70.50</td>\n",
       "      <td>of</td>\n",
       "      <td>39.0</td>\n",
       "      <td>24.500000</td>\n",
       "      <td>of</td>\n",
       "      <td>124</td>\n",
       "      <td>84.500000</td>\n",
       "    </tr>\n",
       "    <tr>\n",
       "      <th>2</th>\n",
       "      <td>in</td>\n",
       "      <td>44.0</td>\n",
       "      <td>47.00</td>\n",
       "      <td>in</td>\n",
       "      <td>29.0</td>\n",
       "      <td>16.333333</td>\n",
       "      <td>a</td>\n",
       "      <td>77</td>\n",
       "      <td>56.333333</td>\n",
       "    </tr>\n",
       "    <tr>\n",
       "      <th>3</th>\n",
       "      <td>to</td>\n",
       "      <td>41.0</td>\n",
       "      <td>35.25</td>\n",
       "      <td>is</td>\n",
       "      <td>27.0</td>\n",
       "      <td>12.250000</td>\n",
       "      <td>in</td>\n",
       "      <td>64</td>\n",
       "      <td>42.250000</td>\n",
       "    </tr>\n",
       "    <tr>\n",
       "      <th>4</th>\n",
       "      <td>is</td>\n",
       "      <td>38.0</td>\n",
       "      <td>28.20</td>\n",
       "      <td>and</td>\n",
       "      <td>23.0</td>\n",
       "      <td>9.800000</td>\n",
       "      <td>to</td>\n",
       "      <td>60</td>\n",
       "      <td>33.800000</td>\n",
       "    </tr>\n",
       "  </tbody>\n",
       "</table>\n",
       "</div>"
      ],
      "text/plain": [
       "  Wikipedia Words  Wikipedia Count  Wikipedia Ex Count Maths Words  \\\n",
       "0             the            141.0              141.00         the   \n",
       "1              of             90.0               70.50          of   \n",
       "2              in             44.0               47.00          in   \n",
       "3              to             41.0               35.25          is   \n",
       "4              is             38.0               28.20         and   \n",
       "\n",
       "   Maths Count  Maths Ex Count Cut Words  Cut Count  Cut Ex Count  \n",
       "0         49.0       49.000000       the        169    169.000000  \n",
       "1         39.0       24.500000        of        124     84.500000  \n",
       "2         29.0       16.333333         a         77     56.333333  \n",
       "3         27.0       12.250000        in         64     42.250000  \n",
       "4         23.0        9.800000        to         60     33.800000  "
      ]
     },
     "execution_count": 4,
     "metadata": {},
     "output_type": "execute_result"
    }
   ],
   "source": [
    "# Using the function to create a dataset from the rank of the most used in each website\n",
    "tp1, zip1 = num_marker(var_maker(soup))\n",
    "tp2, zip2 = num_marker(var_maker(sec_soup))\n",
    "tp3, zip3 =  num_marker(var_maker(rd_soup))\n",
    "tempdf = pd.DataFrame()\n",
    "new_df = jon('Wikipedia Words', tp1.keys(),'Wikipedia Count', tp1.values(), 'Wikipedia Ex Count', zip1,\n",
    "            'Maths Words', tp2.keys(), 'Maths Count', tp2.values(), 'Maths Ex Count', zip2,\n",
    "            'Cut Words', tp3.keys(), 'Cut Count', tp3.values(), 'Cut Ex Count', zip3)\n",
    "new_df.head()"
   ]
  },
  {
   "cell_type": "markdown",
   "id": "1c2bba15",
   "metadata": {},
   "source": [
    "# Answer interesting questions:\n",
    "Now you get to explore this exciting dataset! Can't think of where to start? Try your hand at these questions:\n",
    "- Do these articles about Zipf's law follow zipf law?\n",
    "- If they follow Zipf's law which of the three follows it the best?\n",
    "\n",
    "## Exploratory Data Analysis (EDA)\n",
    "The dataset is not huge, we can easily get to know it and decide how to tackle some interesting questions. From the introductory code above we know:"
   ]
  },
  {
   "cell_type": "code",
   "execution_count": 5,
   "id": "26c1b6f3",
   "metadata": {},
   "outputs": [
    {
     "name": "stderr",
     "output_type": "stream",
     "text": [
      "C:\\Users\\jasai\\AppData\\Local\\Temp\\ipykernel_10472\\1412048153.py:2: FutureWarning: The default value of numeric_only in DataFrame.sum is deprecated. In a future version, it will default to False. In addition, specifying 'numeric_only=None' is deprecated. Select only valid columns or specify the value of numeric_only to silence this warning.\n",
      "  new_df.sum()\n"
     ]
    },
    {
     "data": {
      "text/plain": [
       "Wikipedia Count                                                  2018.0\n",
       "Wikipedia Ex Count                                          1037.596542\n",
       "Maths Count                                                      1036.0\n",
       "Maths Ex Count                                               333.043762\n",
       "Cut Words             theofaintoisandthatforwithasbyitonZipf'sTheare...\n",
       "Cut Count                                                          2689\n",
       "Cut Ex Count                                                1275.840697\n",
       "dtype: object"
      ]
     },
     "execution_count": 5,
     "metadata": {},
     "output_type": "execute_result"
    }
   ],
   "source": [
    "#Checking the length of each website\n",
    "new_df.sum()"
   ]
  },
  {
   "cell_type": "code",
   "execution_count": 6,
   "id": "62810d54",
   "metadata": {},
   "outputs": [
    {
     "data": {
      "text/plain": [
       "Wikipedia Words       185\n",
       "Wikipedia Count       185\n",
       "Wikipedia Ex Count    185\n",
       "Maths Words           564\n",
       "Maths Count           564\n",
       "Maths Ex Count        564\n",
       "Cut Words               0\n",
       "Cut Count               0\n",
       "Cut Ex Count            0\n",
       "dtype: int64"
      ]
     },
     "execution_count": 6,
     "metadata": {},
     "output_type": "execute_result"
    }
   ],
   "source": [
    "# First of all, let's ensure there are no nulls:\n",
    "new_df.isnull().sum()"
   ]
  },
  {
   "cell_type": "code",
   "execution_count": 7,
   "id": "933c9ff0",
   "metadata": {},
   "outputs": [
    {
     "data": {
      "text/html": [
       "<div>\n",
       "<style scoped>\n",
       "    .dataframe tbody tr th:only-of-type {\n",
       "        vertical-align: middle;\n",
       "    }\n",
       "\n",
       "    .dataframe tbody tr th {\n",
       "        vertical-align: top;\n",
       "    }\n",
       "\n",
       "    .dataframe thead th {\n",
       "        text-align: right;\n",
       "    }\n",
       "</style>\n",
       "<table border=\"1\" class=\"dataframe\">\n",
       "  <thead>\n",
       "    <tr style=\"text-align: right;\">\n",
       "      <th></th>\n",
       "      <th>Wikipedia Count</th>\n",
       "      <th>Wikipedia Ex Count</th>\n",
       "      <th>Maths Count</th>\n",
       "      <th>Maths Ex Count</th>\n",
       "      <th>Cut Count</th>\n",
       "      <th>Cut Ex Count</th>\n",
       "    </tr>\n",
       "  </thead>\n",
       "  <tbody>\n",
       "    <tr>\n",
       "      <th>count</th>\n",
       "      <td>30.000000</td>\n",
       "      <td>30.000000</td>\n",
       "      <td>30.000000</td>\n",
       "      <td>30.000000</td>\n",
       "      <td>30.000000</td>\n",
       "      <td>30.000000</td>\n",
       "    </tr>\n",
       "    <tr>\n",
       "      <th>mean</th>\n",
       "      <td>24.933333</td>\n",
       "      <td>18.776440</td>\n",
       "      <td>13.633333</td>\n",
       "      <td>6.525146</td>\n",
       "      <td>30.566667</td>\n",
       "      <td>22.505094</td>\n",
       "    </tr>\n",
       "    <tr>\n",
       "      <th>std</th>\n",
       "      <td>27.484081</td>\n",
       "      <td>27.212140</td>\n",
       "      <td>10.587837</td>\n",
       "      <td>9.456701</td>\n",
       "      <td>36.594406</td>\n",
       "      <td>32.615969</td>\n",
       "    </tr>\n",
       "    <tr>\n",
       "      <th>min</th>\n",
       "      <td>8.000000</td>\n",
       "      <td>4.700000</td>\n",
       "      <td>5.000000</td>\n",
       "      <td>1.633333</td>\n",
       "      <td>10.000000</td>\n",
       "      <td>5.633333</td>\n",
       "    </tr>\n",
       "    <tr>\n",
       "      <th>25%</th>\n",
       "      <td>11.000000</td>\n",
       "      <td>6.200099</td>\n",
       "      <td>7.000000</td>\n",
       "      <td>2.154644</td>\n",
       "      <td>11.000000</td>\n",
       "      <td>7.431324</td>\n",
       "    </tr>\n",
       "    <tr>\n",
       "      <th>50%</th>\n",
       "      <td>15.500000</td>\n",
       "      <td>9.106250</td>\n",
       "      <td>9.000000</td>\n",
       "      <td>3.164583</td>\n",
       "      <td>15.500000</td>\n",
       "      <td>10.914583</td>\n",
       "    </tr>\n",
       "    <tr>\n",
       "      <th>75%</th>\n",
       "      <td>24.750000</td>\n",
       "      <td>17.135417</td>\n",
       "      <td>17.000000</td>\n",
       "      <td>5.954861</td>\n",
       "      <td>32.500000</td>\n",
       "      <td>20.538194</td>\n",
       "    </tr>\n",
       "    <tr>\n",
       "      <th>max</th>\n",
       "      <td>141.000000</td>\n",
       "      <td>141.000000</td>\n",
       "      <td>49.000000</td>\n",
       "      <td>49.000000</td>\n",
       "      <td>169.000000</td>\n",
       "      <td>169.000000</td>\n",
       "    </tr>\n",
       "  </tbody>\n",
       "</table>\n",
       "</div>"
      ],
      "text/plain": [
       "       Wikipedia Count  Wikipedia Ex Count  Maths Count  Maths Ex Count  \\\n",
       "count        30.000000           30.000000    30.000000       30.000000   \n",
       "mean         24.933333           18.776440    13.633333        6.525146   \n",
       "std          27.484081           27.212140    10.587837        9.456701   \n",
       "min           8.000000            4.700000     5.000000        1.633333   \n",
       "25%          11.000000            6.200099     7.000000        2.154644   \n",
       "50%          15.500000            9.106250     9.000000        3.164583   \n",
       "75%          24.750000           17.135417    17.000000        5.954861   \n",
       "max         141.000000          141.000000    49.000000       49.000000   \n",
       "\n",
       "        Cut Count  Cut Ex Count  \n",
       "count   30.000000     30.000000  \n",
       "mean    30.566667     22.505094  \n",
       "std     36.594406     32.615969  \n",
       "min     10.000000      5.633333  \n",
       "25%     11.000000      7.431324  \n",
       "50%     15.500000     10.914583  \n",
       "75%     32.500000     20.538194  \n",
       "max    169.000000    169.000000  "
      ]
     },
     "execution_count": 7,
     "metadata": {},
     "output_type": "execute_result"
    }
   ],
   "source": [
    "# Drop missing values and reduced the dataframe for more accuary data\n",
    "reduceddf = new_df.dropna().iloc[:30]\n",
    "reduceddf.describe()"
   ]
  },
  {
   "cell_type": "code",
   "execution_count": 8,
   "id": "70bcd6e3",
   "metadata": {},
   "outputs": [
    {
     "data": {
      "text/html": [
       "<div>\n",
       "<style scoped>\n",
       "    .dataframe tbody tr th:only-of-type {\n",
       "        vertical-align: middle;\n",
       "    }\n",
       "\n",
       "    .dataframe tbody tr th {\n",
       "        vertical-align: top;\n",
       "    }\n",
       "\n",
       "    .dataframe thead th {\n",
       "        text-align: right;\n",
       "    }\n",
       "</style>\n",
       "<table border=\"1\" class=\"dataframe\">\n",
       "  <thead>\n",
       "    <tr style=\"text-align: right;\">\n",
       "      <th></th>\n",
       "      <th>Wikipedia Count</th>\n",
       "      <th>Wikipedia Ex Count</th>\n",
       "    </tr>\n",
       "  </thead>\n",
       "  <tbody>\n",
       "    <tr>\n",
       "      <th>Wikipedia Count</th>\n",
       "      <td>1.000000</td>\n",
       "      <td>0.996992</td>\n",
       "    </tr>\n",
       "    <tr>\n",
       "      <th>Wikipedia Ex Count</th>\n",
       "      <td>0.996992</td>\n",
       "      <td>1.000000</td>\n",
       "    </tr>\n",
       "  </tbody>\n",
       "</table>\n",
       "</div>"
      ],
      "text/plain": [
       "                    Wikipedia Count  Wikipedia Ex Count\n",
       "Wikipedia Count            1.000000            0.996992\n",
       "Wikipedia Ex Count         0.996992            1.000000"
      ]
     },
     "execution_count": 8,
     "metadata": {},
     "output_type": "execute_result"
    }
   ],
   "source": [
    "# Finding the correlation of the expected value and the real values\n",
    "corrs = scorr(reduceddf, 'Wikipedia Count', 'Wikipedia Ex Count','Maths Count', 'Maths Ex Count', 'Cut Count', 'Cut Ex Count')\n",
    "corrs[0].head()"
   ]
  },
  {
   "cell_type": "code",
   "execution_count": 9,
   "id": "9d95bc87",
   "metadata": {},
   "outputs": [
    {
     "data": {
      "text/html": [
       "<div>\n",
       "<style scoped>\n",
       "    .dataframe tbody tr th:only-of-type {\n",
       "        vertical-align: middle;\n",
       "    }\n",
       "\n",
       "    .dataframe tbody tr th {\n",
       "        vertical-align: top;\n",
       "    }\n",
       "\n",
       "    .dataframe thead th {\n",
       "        text-align: right;\n",
       "    }\n",
       "</style>\n",
       "<table border=\"1\" class=\"dataframe\">\n",
       "  <thead>\n",
       "    <tr style=\"text-align: right;\">\n",
       "      <th></th>\n",
       "      <th>Maths Count</th>\n",
       "      <th>Maths Ex Count</th>\n",
       "    </tr>\n",
       "  </thead>\n",
       "  <tbody>\n",
       "    <tr>\n",
       "      <th>Maths Count</th>\n",
       "      <td>1.000000</td>\n",
       "      <td>0.995764</td>\n",
       "    </tr>\n",
       "    <tr>\n",
       "      <th>Maths Ex Count</th>\n",
       "      <td>0.995764</td>\n",
       "      <td>1.000000</td>\n",
       "    </tr>\n",
       "  </tbody>\n",
       "</table>\n",
       "</div>"
      ],
      "text/plain": [
       "                Maths Count  Maths Ex Count\n",
       "Maths Count        1.000000        0.995764\n",
       "Maths Ex Count     0.995764        1.000000"
      ]
     },
     "execution_count": 9,
     "metadata": {},
     "output_type": "execute_result"
    }
   ],
   "source": [
    "corrs[1].head()"
   ]
  },
  {
   "cell_type": "code",
   "execution_count": 10,
   "id": "6f6e238e",
   "metadata": {},
   "outputs": [
    {
     "data": {
      "text/html": [
       "<div>\n",
       "<style scoped>\n",
       "    .dataframe tbody tr th:only-of-type {\n",
       "        vertical-align: middle;\n",
       "    }\n",
       "\n",
       "    .dataframe tbody tr th {\n",
       "        vertical-align: top;\n",
       "    }\n",
       "\n",
       "    .dataframe thead th {\n",
       "        text-align: right;\n",
       "    }\n",
       "</style>\n",
       "<table border=\"1\" class=\"dataframe\">\n",
       "  <thead>\n",
       "    <tr style=\"text-align: right;\">\n",
       "      <th></th>\n",
       "      <th>Cut Count</th>\n",
       "      <th>Cut Ex Count</th>\n",
       "    </tr>\n",
       "  </thead>\n",
       "  <tbody>\n",
       "    <tr>\n",
       "      <th>Cut Count</th>\n",
       "      <td>1.000000</td>\n",
       "      <td>0.994982</td>\n",
       "    </tr>\n",
       "    <tr>\n",
       "      <th>Cut Ex Count</th>\n",
       "      <td>0.994982</td>\n",
       "      <td>1.000000</td>\n",
       "    </tr>\n",
       "  </tbody>\n",
       "</table>\n",
       "</div>"
      ],
      "text/plain": [
       "              Cut Count  Cut Ex Count\n",
       "Cut Count      1.000000      0.994982\n",
       "Cut Ex Count   0.994982      1.000000"
      ]
     },
     "execution_count": 10,
     "metadata": {},
     "output_type": "execute_result"
    }
   ],
   "source": [
    "corrs[2].head()"
   ]
  },
  {
   "cell_type": "code",
   "execution_count": 11,
   "id": "face3182",
   "metadata": {},
   "outputs": [
    {
     "data": {
      "image/png": "[encoded data removed]",
      "text/plain": [
       "<Figure size 640x480 with 1 Axes>"
      ]
     },
     "metadata": {},
     "output_type": "display_data"
    },
    {
     "data": {
      "image/png": "[encoded data removed]",
      "text/plain": [
       "<Figure size 640x480 with 1 Axes>"
      ]
     },
     "metadata": {},
     "output_type": "display_data"
    },
    {
     "data": {
      "image/png": "[encoded data removed]",
      "text/plain": [
       "<Figure size 640x480 with 1 Axes>"
      ]
     },
     "metadata": {},
     "output_type": "display_data"
    }
   ],
   "source": [
    "# Making a plot\n",
    "real_plot(reduceddf, 'Wikipedia Count', 'Wikipedia Ex Count','Maths Count', 'Maths Ex Count', 'Cut Count', 'Cut Ex Count')"
   ]
  }
 ],
 "metadata": {
  "kernelspec": {
   "display_name": "Python 3 (ipykernel)",
   "language": "python",
   "name": "python3"
  },
  "language_info": {
   "codemirror_mode": {
    "name": "ipython",
    "version": 3
   },
   "file_extension": ".py",
   "mimetype": "text/x-python",
   "name": "python",
   "nbconvert_exporter": "python",
   "pygments_lexer": "ipython3",
   "version": "3.11.4"
  }
 },
 "nbformat": 4,
 "nbformat_minor": 5
}
